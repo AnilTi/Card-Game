{
 "cells": [
  {
   "cell_type": "code",
   "execution_count": 1,
   "id": "3f46744e",
   "metadata": {},
   "outputs": [],
   "source": [
    "class Card:\n",
    "    suits = [\"spades\",\n",
    "             \"hearts\",\n",
    "             \"diamonds\",\n",
    "             \"clubs\"]\n",
    "    \n",
    "    values = [None, None,\"2\", \"3\",\n",
    "              \"4\", \"5\", \"6\", \"7\",\n",
    "              \"8\", \"9\", \"10\",\n",
    "              \"Jack\", \"Queen\",\n",
    "              \"King\", \"Ace\"]\n",
    "\n",
    "    def __init__(self, v, s):\n",
    "        \"\"\"suit + value are ints\"\"\"\n",
    "        self.value = v\n",
    "        self.suit = s\n",
    "\n",
    "    def __lt__(self, c2):\n",
    "        if self.value < c2.value:\n",
    "            return True\n",
    "        if self.value == c2.value:\n",
    "            if self.suit < c2.suit:\n",
    "                return True\n",
    "            else:\n",
    "                return False\n",
    "        return False\n",
    "\n",
    "    def __gt__(self, c2):\n",
    "        if self.value > c2.value:\n",
    "            return True\n",
    "        if self.value == c2.value:\n",
    "            if self.suit > c2.suit:\n",
    "                return True\n",
    "            else:\n",
    "                return False\n",
    "        return False\n",
    "\n",
    "    def __repr__(self):\n",
    "        v = self.values[self.value] +\\\n",
    "            \" of \" + \\\n",
    "            self.suits[self.suit]\n",
    "        return v"
   ]
  },
  {
   "cell_type": "code",
   "execution_count": null,
   "id": "667b1a8e",
   "metadata": {},
   "outputs": [],
   "source": []
  }
 ],
 "metadata": {
  "kernelspec": {
   "display_name": "Python 3 (ipykernel)",
   "language": "python",
   "name": "python3"
  },
  "language_info": {
   "codemirror_mode": {
    "name": "ipython",
    "version": 3
   },
   "file_extension": ".py",
   "mimetype": "text/x-python",
   "name": "python",
   "nbconvert_exporter": "python",
   "pygments_lexer": "ipython3",
   "version": "3.9.7"
  }
 },
 "nbformat": 4,
 "nbformat_minor": 5
}
